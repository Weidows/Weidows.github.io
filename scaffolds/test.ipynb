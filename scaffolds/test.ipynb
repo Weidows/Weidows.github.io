{
 "cells": [
  {
   "cell_type": "code",
   "execution_count": 7,
   "metadata": {},
   "outputs": [
    {
     "ename": "ImportError",
     "evalue": "DLL load failed while importing vtkRenderingContext2D: 找不到指定的程序。",
     "output_type": "error",
     "traceback": [
      "\u001b[1;31m---------------------------------------------------------------------------\u001b[0m",
      "\u001b[1;31mImportError\u001b[0m                               Traceback (most recent call last)",
      "\u001b[1;32md:\\Repos\\Weidows\\Blog-private\\scaffolds\\test.ipynb Cell 1\u001b[0m in \u001b[0;36m<cell line: 4>\u001b[1;34m()\u001b[0m\n\u001b[0;32m      <a href='vscode-notebook-cell:/d%3A/Repos/Weidows/Blog-private/scaffolds/test.ipynb#W0sZmlsZQ%3D%3D?line=1'>2</a>\u001b[0m \u001b[39mimport\u001b[39;00m \u001b[39mtorch\u001b[39;00m\n\u001b[0;32m      <a href='vscode-notebook-cell:/d%3A/Repos/Weidows/Blog-private/scaffolds/test.ipynb#W0sZmlsZQ%3D%3D?line=2'>3</a>\u001b[0m \u001b[39mimport\u001b[39;00m \u001b[39mcv2\u001b[39;00m\n\u001b[1;32m----> <a href='vscode-notebook-cell:/d%3A/Repos/Weidows/Blog-private/scaffolds/test.ipynb#W0sZmlsZQ%3D%3D?line=3'>4</a>\u001b[0m \u001b[39mimport\u001b[39;00m \u001b[39mmayavi\u001b[39;00m\u001b[39m.\u001b[39;00m\u001b[39mmlab\u001b[39;00m\n\u001b[0;32m      <a href='vscode-notebook-cell:/d%3A/Repos/Weidows/Blog-private/scaffolds/test.ipynb#W0sZmlsZQ%3D%3D?line=5'>6</a>\u001b[0m mypointcloud \u001b[39m=\u001b[39m torch\u001b[39m.\u001b[39mfrom_numpy(\n\u001b[0;32m      <a href='vscode-notebook-cell:/d%3A/Repos/Weidows/Blog-private/scaffolds/test.ipynb#W0sZmlsZQ%3D%3D?line=6'>7</a>\u001b[0m     np\u001b[39m.\u001b[39mfromfile(\u001b[39m\"\u001b[39m\u001b[39mD:/Download/000009.pcd\u001b[39m\u001b[39m\"\u001b[39m, dtype\u001b[39m=\u001b[39mnp\u001b[39m.\u001b[39mfloat32,\n\u001b[0;32m      <a href='vscode-notebook-cell:/d%3A/Repos/Weidows/Blog-private/scaffolds/test.ipynb#W0sZmlsZQ%3D%3D?line=7'>8</a>\u001b[0m                 count\u001b[39m=\u001b[39m\u001b[39m-\u001b[39m\u001b[39m1\u001b[39m)\u001b[39m.\u001b[39mreshape([\u001b[39m-\u001b[39m\u001b[39m1\u001b[39m, \u001b[39m4\u001b[39m]))\n\u001b[0;32m      <a href='vscode-notebook-cell:/d%3A/Repos/Weidows/Blog-private/scaffolds/test.ipynb#W0sZmlsZQ%3D%3D?line=8'>9</a>\u001b[0m \u001b[39mprint\u001b[39m(mypointcloud\u001b[39m.\u001b[39msize())\n",
      "File \u001b[1;32mD:\\Scoop\\apps\\anaconda3\\current\\lib\\site-packages\\mayavi\\mlab.py:16\u001b[0m, in \u001b[0;36m<module>\u001b[1;34m\u001b[0m\n\u001b[0;32m      8\u001b[0m \u001b[39m# Author: Prabhu Ramachandran <prabhu_r@users.sf.net>\u001b[39;00m\n\u001b[0;32m      9\u001b[0m \u001b[39m#         Gael Varoquaux <gael dot varoquaux at normalesup dot org>\u001b[39;00m\n\u001b[0;32m     10\u001b[0m \u001b[39m# Copyright (c) 2007-2020, Enthought, Inc.\u001b[39;00m\n\u001b[1;32m   (...)\u001b[0m\n\u001b[0;32m     13\u001b[0m \n\u001b[0;32m     14\u001b[0m \u001b[39m# Mayavi imports\u001b[39;00m\n\u001b[0;32m     15\u001b[0m \u001b[39mfrom\u001b[39;00m \u001b[39mmayavi\u001b[39;00m\u001b[39m.\u001b[39;00m\u001b[39mcore\u001b[39;00m\u001b[39m.\u001b[39;00m\u001b[39mcommon\u001b[39;00m \u001b[39mimport\u001b[39;00m process_ui_events\n\u001b[1;32m---> 16\u001b[0m \u001b[39mfrom\u001b[39;00m \u001b[39mmayavi\u001b[39;00m\u001b[39m.\u001b[39;00m\u001b[39mtools\u001b[39;00m\u001b[39m.\u001b[39;00m\u001b[39mcamera\u001b[39;00m \u001b[39mimport\u001b[39;00m view, roll, yaw, pitch, move\n\u001b[0;32m     17\u001b[0m \u001b[39mfrom\u001b[39;00m \u001b[39mmayavi\u001b[39;00m\u001b[39m.\u001b[39;00m\u001b[39mtools\u001b[39;00m\u001b[39m.\u001b[39;00m\u001b[39mfigure\u001b[39;00m \u001b[39mimport\u001b[39;00m figure, clf, gcf, savefig, \\\n\u001b[0;32m     18\u001b[0m     draw, sync_camera, close, screenshot\n\u001b[0;32m     19\u001b[0m \u001b[39mfrom\u001b[39;00m \u001b[39mmayavi\u001b[39;00m\u001b[39m.\u001b[39;00m\u001b[39mtools\u001b[39;00m\u001b[39m.\u001b[39;00m\u001b[39mengine_manager\u001b[39;00m \u001b[39mimport\u001b[39;00m get_engine, show_pipeline, \\\n\u001b[0;32m     20\u001b[0m         options, set_engine\n",
      "File \u001b[1;32mD:\\Scoop\\apps\\anaconda3\\current\\lib\\site-packages\\mayavi\\tools\\camera.py:24\u001b[0m, in \u001b[0;36m<module>\u001b[1;34m\u001b[0m\n\u001b[0;32m     20\u001b[0m \u001b[39mfrom\u001b[39;00m \u001b[39mnumpy\u001b[39;00m \u001b[39mimport\u001b[39;00m pi\n\u001b[0;32m     22\u001b[0m \u001b[39m# We can't use gcf, as it creates a circular import in camera management\u001b[39;00m\n\u001b[0;32m     23\u001b[0m \u001b[39m# routines.\u001b[39;00m\n\u001b[1;32m---> 24\u001b[0m \u001b[39mfrom\u001b[39;00m \u001b[39m.\u001b[39;00m\u001b[39mengine_manager\u001b[39;00m \u001b[39mimport\u001b[39;00m get_engine\n\u001b[0;32m     27\u001b[0m \u001b[39mif\u001b[39;00m sys\u001b[39m.\u001b[39mversion_info[\u001b[39m0\u001b[39m] \u001b[39m>\u001b[39m \u001b[39m2\u001b[39m:\n\u001b[0;32m     28\u001b[0m     string_types \u001b[39m=\u001b[39m (\u001b[39mstr\u001b[39m,)\n",
      "File \u001b[1;32mD:\\Scoop\\apps\\anaconda3\\current\\lib\\site-packages\\mayavi\\tools\\engine_manager.py:13\u001b[0m, in \u001b[0;36m<module>\u001b[1;34m\u001b[0m\n\u001b[0;32m     11\u001b[0m \u001b[39m# Local imports\u001b[39;00m\n\u001b[0;32m     12\u001b[0m \u001b[39mfrom\u001b[39;00m \u001b[39mmayavi\u001b[39;00m\u001b[39m.\u001b[39;00m\u001b[39mpreferences\u001b[39;00m\u001b[39m.\u001b[39;00m\u001b[39mapi\u001b[39;00m \u001b[39mimport\u001b[39;00m preference_manager\n\u001b[1;32m---> 13\u001b[0m \u001b[39mfrom\u001b[39;00m \u001b[39mmayavi\u001b[39;00m\u001b[39m.\u001b[39;00m\u001b[39mcore\u001b[39;00m\u001b[39m.\u001b[39;00m\u001b[39mregistry\u001b[39;00m \u001b[39mimport\u001b[39;00m registry\n\u001b[0;32m     14\u001b[0m \u001b[39mfrom\u001b[39;00m \u001b[39mmayavi\u001b[39;00m\u001b[39m.\u001b[39;00m\u001b[39mcore\u001b[39;00m\u001b[39m.\u001b[39;00m\u001b[39mengine\u001b[39;00m \u001b[39mimport\u001b[39;00m Engine\n\u001b[0;32m     15\u001b[0m \u001b[39mfrom\u001b[39;00m \u001b[39mmayavi\u001b[39;00m\u001b[39m.\u001b[39;00m\u001b[39mcore\u001b[39;00m\u001b[39m.\u001b[39;00m\u001b[39moff_screen_engine\u001b[39;00m \u001b[39mimport\u001b[39;00m OffScreenEngine\n",
      "File \u001b[1;32mD:\\Scoop\\apps\\anaconda3\\current\\lib\\site-packages\\mayavi\\core\\registry.py:16\u001b[0m, in \u001b[0;36m<module>\u001b[1;34m\u001b[0m\n\u001b[0;32m     13\u001b[0m \u001b[39mfrom\u001b[39;00m \u001b[39mtraits\u001b[39;00m\u001b[39m.\u001b[39;00m\u001b[39mapi\u001b[39;00m \u001b[39mimport\u001b[39;00m HasTraits, List, Instance, Dict, Str\n\u001b[0;32m     15\u001b[0m \u001b[39m# Local imports.\u001b[39;00m\n\u001b[1;32m---> 16\u001b[0m \u001b[39mfrom\u001b[39;00m \u001b[39mmayavi\u001b[39;00m\u001b[39m.\u001b[39;00m\u001b[39mcore\u001b[39;00m\u001b[39m.\u001b[39;00m\u001b[39mmetadata\u001b[39;00m \u001b[39mimport\u001b[39;00m Metadata, import_symbol\n\u001b[0;32m     18\u001b[0m \u001b[39m# A logger for this module.\u001b[39;00m\n\u001b[0;32m     19\u001b[0m logger \u001b[39m=\u001b[39m logging\u001b[39m.\u001b[39mgetLogger(\u001b[39m__name__\u001b[39m)\n",
      "File \u001b[1;32mD:\\Scoop\\apps\\anaconda3\\current\\lib\\site-packages\\mayavi\\core\\metadata.py:11\u001b[0m, in \u001b[0;36m<module>\u001b[1;34m\u001b[0m\n\u001b[0;32m      5\u001b[0m \u001b[39m# Author: Prabhu Ramachandran <prabhu@aero.iitb.ac.in>\u001b[39;00m\n\u001b[0;32m      6\u001b[0m \u001b[39m# Copyright (c) 2008, Enthought, Inc.\u001b[39;00m\n\u001b[0;32m      7\u001b[0m \u001b[39m# License: BSD Style.\u001b[39;00m\n\u001b[0;32m      8\u001b[0m \n\u001b[0;32m      9\u001b[0m \u001b[39m# Enthought library imports.\u001b[39;00m\n\u001b[0;32m     10\u001b[0m \u001b[39mfrom\u001b[39;00m \u001b[39mtraits\u001b[39;00m\u001b[39m.\u001b[39;00m\u001b[39mapi\u001b[39;00m \u001b[39mimport\u001b[39;00m HasTraits, Str, Callable, Either, List, Instance\n\u001b[1;32m---> 11\u001b[0m \u001b[39mfrom\u001b[39;00m \u001b[39mmayavi\u001b[39;00m\u001b[39m.\u001b[39;00m\u001b[39mcore\u001b[39;00m\u001b[39m.\u001b[39;00m\u001b[39mpipeline_info\u001b[39;00m \u001b[39mimport\u001b[39;00m PipelineInfo\n\u001b[0;32m     14\u001b[0m \u001b[39m################################################################################\u001b[39;00m\n\u001b[0;32m     15\u001b[0m \u001b[39m# Utility functions.\u001b[39;00m\n\u001b[0;32m     16\u001b[0m \u001b[39m################################################################################\u001b[39;00m\n\u001b[0;32m     17\u001b[0m \u001b[39mdef\u001b[39;00m \u001b[39mimport_symbol\u001b[39m(symbol_path):\n",
      "File \u001b[1;32mD:\\Scoop\\apps\\anaconda3\\current\\lib\\site-packages\\mayavi\\core\\pipeline_info.py:12\u001b[0m, in \u001b[0;36m<module>\u001b[1;34m\u001b[0m\n\u001b[0;32m      5\u001b[0m \u001b[39m# Author: Prabhu Ramachandran <prabhu@aero.iitb.ac.in>\u001b[39;00m\n\u001b[0;32m      6\u001b[0m \u001b[39m# Copyright (c) 2008-2020, Prabhu Ramachandran Enthought, Inc.\u001b[39;00m\n\u001b[0;32m      7\u001b[0m \u001b[39m# License: BSD Style.\u001b[39;00m\n\u001b[0;32m      8\u001b[0m \n\u001b[0;32m      9\u001b[0m \u001b[39m# Enthought library imports.\u001b[39;00m\n\u001b[0;32m     10\u001b[0m \u001b[39mfrom\u001b[39;00m \u001b[39mtraits\u001b[39;00m\u001b[39m.\u001b[39;00m\u001b[39mapi\u001b[39;00m \u001b[39mimport\u001b[39;00m HasTraits, Enum, List\n\u001b[1;32m---> 12\u001b[0m \u001b[39mfrom\u001b[39;00m \u001b[39m.\u001b[39;00m\u001b[39mutils\u001b[39;00m \u001b[39mimport\u001b[39;00m get_tvtk_dataset_name\n\u001b[0;32m     14\u001b[0m \u001b[39m# The list of datasets supported.\u001b[39;00m\n\u001b[0;32m     15\u001b[0m DataSet \u001b[39m=\u001b[39m Enum(\u001b[39m'\u001b[39m\u001b[39mnone\u001b[39m\u001b[39m'\u001b[39m, \u001b[39m'\u001b[39m\u001b[39many\u001b[39m\u001b[39m'\u001b[39m, \u001b[39m'\u001b[39m\u001b[39mimage_data\u001b[39m\u001b[39m'\u001b[39m, \u001b[39m'\u001b[39m\u001b[39mrectilinear_grid\u001b[39m\u001b[39m'\u001b[39m,\n\u001b[0;32m     16\u001b[0m                \u001b[39m'\u001b[39m\u001b[39mpoly_data\u001b[39m\u001b[39m'\u001b[39m, \u001b[39m'\u001b[39m\u001b[39mstructured_grid\u001b[39m\u001b[39m'\u001b[39m, \u001b[39m'\u001b[39m\u001b[39munstructured_grid\u001b[39m\u001b[39m'\u001b[39m)\n",
      "File \u001b[1;32mD:\\Scoop\\apps\\anaconda3\\current\\lib\\site-packages\\mayavi\\core\\utils.py:2\u001b[0m, in \u001b[0;36m<module>\u001b[1;34m\u001b[0m\n\u001b[0;32m      1\u001b[0m \u001b[39mimport\u001b[39;00m \u001b[39mnumpy\u001b[39;00m \u001b[39mas\u001b[39;00m \u001b[39mnp\u001b[39;00m\n\u001b[1;32m----> 2\u001b[0m \u001b[39mimport\u001b[39;00m \u001b[39mvtk\u001b[39;00m\n\u001b[0;32m      3\u001b[0m \u001b[39mfrom\u001b[39;00m \u001b[39mvtk\u001b[39;00m\u001b[39m.\u001b[39;00m\u001b[39mnumpy_interface\u001b[39;00m \u001b[39mimport\u001b[39;00m dataset_adapter \u001b[39mas\u001b[39;00m dsa\n\u001b[0;32m      4\u001b[0m \u001b[39mfrom\u001b[39;00m \u001b[39mvtk\u001b[39;00m\u001b[39m.\u001b[39;00m\u001b[39mnumpy_interface\u001b[39;00m \u001b[39mimport\u001b[39;00m algorithms \u001b[39mas\u001b[39;00m algs\n",
      "File \u001b[1;32mD:\\Scoop\\apps\\anaconda3\\current\\lib\\site-packages\\vtk.py:30\u001b[0m, in \u001b[0;36m<module>\u001b[1;34m\u001b[0m\n\u001b[0;32m     28\u001b[0m \u001b[39mimport\u001b[39;00m \u001b[39mimportlib\u001b[39;00m\n\u001b[0;32m     29\u001b[0m \u001b[39m# import vtkmodules.all\u001b[39;00m\n\u001b[1;32m---> 30\u001b[0m all_m \u001b[39m=\u001b[39m importlib\u001b[39m.\u001b[39;49mimport_module(\u001b[39m'\u001b[39;49m\u001b[39mvtkmodules.all\u001b[39;49m\u001b[39m'\u001b[39;49m)\n\u001b[0;32m     32\u001b[0m \u001b[39m# import vtkmodules\u001b[39;00m\n\u001b[0;32m     33\u001b[0m vtkmodules_m \u001b[39m=\u001b[39m importlib\u001b[39m.\u001b[39mimport_module(\u001b[39m'\u001b[39m\u001b[39mvtkmodules\u001b[39m\u001b[39m'\u001b[39m)\n",
      "File \u001b[1;32mD:\\Scoop\\apps\\anaconda3\\current\\lib\\importlib\\__init__.py:127\u001b[0m, in \u001b[0;36mimport_module\u001b[1;34m(name, package)\u001b[0m\n\u001b[0;32m    125\u001b[0m             \u001b[39mbreak\u001b[39;00m\n\u001b[0;32m    126\u001b[0m         level \u001b[39m+\u001b[39m\u001b[39m=\u001b[39m \u001b[39m1\u001b[39m\n\u001b[1;32m--> 127\u001b[0m \u001b[39mreturn\u001b[39;00m _bootstrap\u001b[39m.\u001b[39;49m_gcd_import(name[level:], package, level)\n",
      "File \u001b[1;32mD:\\Scoop\\apps\\anaconda3\\current\\lib\\site-packages\\vtkmodules\\all.py:16\u001b[0m, in \u001b[0;36m<module>\u001b[1;34m\u001b[0m\n\u001b[0;32m     14\u001b[0m \u001b[39mfrom\u001b[39;00m \u001b[39m.\u001b[39;00m\u001b[39mvtkRenderingCore\u001b[39;00m \u001b[39mimport\u001b[39;00m \u001b[39m*\u001b[39m\n\u001b[0;32m     15\u001b[0m \u001b[39mfrom\u001b[39;00m \u001b[39m.\u001b[39;00m\u001b[39mvtkInteractionStyle\u001b[39;00m \u001b[39mimport\u001b[39;00m \u001b[39m*\u001b[39m\n\u001b[1;32m---> 16\u001b[0m \u001b[39mfrom\u001b[39;00m \u001b[39m.\u001b[39;00m\u001b[39mvtkRenderingContext2D\u001b[39;00m \u001b[39mimport\u001b[39;00m \u001b[39m*\u001b[39m\n\u001b[0;32m     17\u001b[0m \u001b[39mfrom\u001b[39;00m \u001b[39m.\u001b[39;00m\u001b[39mvtkFiltersGeneral\u001b[39;00m \u001b[39mimport\u001b[39;00m \u001b[39m*\u001b[39m\n\u001b[0;32m     18\u001b[0m \u001b[39mfrom\u001b[39;00m \u001b[39m.\u001b[39;00m\u001b[39mvtkFiltersSources\u001b[39;00m \u001b[39mimport\u001b[39;00m \u001b[39m*\u001b[39m\n",
      "\u001b[1;31mImportError\u001b[0m: DLL load failed while importing vtkRenderingContext2D: 找不到指定的程序。"
     ]
    }
   ],
   "source": [
    "import numpy as np\n",
    "import torch\n",
    "import mayavi.mlab\n",
    "\n",
    "mypointcloud = torch.from_numpy(\n",
    "    np.fromfile(\"D:/Download/000009.pcd\", dtype=np.float32,\n",
    "                count=-1).reshape([-1, 4]))\n",
    "print(mypointcloud.size())\n",
    "print(mypointcloud.type())\n",
    "\n",
    "\n",
    "# def viz_mayavi(points, vals=\"distance\"):\n",
    "#     x = points[:, 0]\n",
    "#     y = points[:, 1]\n",
    "#     z = points[:, 2]\n",
    "#     r = points[:, 3]\n",
    "#     d = torch.sqrt(x**2 + y**2)\n",
    "\n",
    "#     if vals == \"height\":\n",
    "#         col = z\n",
    "#     else:\n",
    "#         col = d\n",
    "\n",
    "#     fig = mayavi.mlab.figure(bgcolor=(0, 0, 0), size=(1280, 720))\n",
    "#     mayavi.mlab.points3d(\n",
    "#         x,\n",
    "#         y,\n",
    "#         z,\n",
    "#         col,\n",
    "#         mode=\"point\",\n",
    "#         colormap='spectral',\n",
    "#         figure=fig,\n",
    "#     )\n",
    "\n",
    "#     mayavi.mlab.show()\n",
    "\n",
    "\n",
    "# if __name__ == \"__main__\":\n",
    "# viz_mayavi(mypointcloud, vals=\"height\")\n"
   ]
  }
 ],
 "metadata": {
  "kernelspec": {
   "display_name": "Python 3.9.12 64-bit (system)",
   "language": "python",
   "name": "python3"
  },
  "language_info": {
   "codemirror_mode": {
    "name": "ipython",
    "version": 3
   },
   "file_extension": ".py",
   "mimetype": "text/x-python",
   "name": "python",
   "nbconvert_exporter": "python",
   "pygments_lexer": "ipython3",
   "version": "3.9.12"
  },
  "orig_nbformat": 4,
  "vscode": {
   "interpreter": {
    "hash": "8faf7328610876523a4e724188f9f8e34266025c0876869ab11d11b1ec3b5644"
   }
  }
 },
 "nbformat": 4,
 "nbformat_minor": 2
}
